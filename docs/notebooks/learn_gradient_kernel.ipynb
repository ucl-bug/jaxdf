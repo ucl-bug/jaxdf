{
 "cells": [
  {
   "cell_type": "code",
   "execution_count": 1,
   "id": "5f090e28-b665-4a69-97da-b537ae8a9b9b",
   "metadata": {},
   "outputs": [],
   "source": [
    "%load_ext autoreload\n",
    "%autoreload 2"
   ]
  },
  {
   "cell_type": "code",
   "execution_count": 2,
   "id": "927c293c-1cc0-4645-8c26-539d95ef589d",
   "metadata": {},
   "outputs": [],
   "source": [
    "from jaxdf.discretization import FourierSeries\n",
    "from jax import random\n",
    "from jaxdf.geometry import Domain\n",
    "import jax\n",
    "\n",
    "seed = random.PRNGKey(42)\n",
    "\n",
    "domain = Domain((16,16), (.5,.5))\n",
    "\n",
    "fourier_discretization = FourierSeries(domain)"
   ]
  },
  {
   "cell_type": "code",
   "execution_count": 3,
   "id": "701d852e-e8f2-484b-b1b6-f828c4daf6e6",
   "metadata": {},
   "outputs": [],
   "source": [
    "from jaxdf.core import Field\n",
    "seeds = random.split(seed, 2)\n",
    "\n",
    "u_params, u = fourier_discretization.empty_field(name=\"u\")\n"
   ]
  },
  {
   "cell_type": "markdown",
   "id": "eddb7ba6-b2bd-483d-bbdd-8690df58ad34",
   "metadata": {},
   "source": [
    "$F(a,x) \\to F(a,x) + 2$\n",
    "\n",
    "$F(a,x) \\to F(a + 2,x)$"
   ]
  },
  {
   "cell_type": "code",
   "execution_count": 11,
   "id": "d94df5e6-2d18-435d-89e4-75e49778ae24",
   "metadata": {},
   "outputs": [],
   "source": [
    "from jaxdf import operators as jops\n",
    "from jaxdf.core import operator\n",
    "\n",
    "Sin = jops.elementwise(jax.numpy.sin)\n",
    "\n",
    "@operator()\n",
    "def custom_op(u):\n",
    "    grad_u = jops.gradient(u)\n",
    "    nabla_sq = jops.sum_over_dims(jops.diag_jacobian(grad_u))\n",
    "    return nabla_sq + 2*Sin(u)"
   ]
  },
  {
   "cell_type": "code",
   "execution_count": 12,
   "id": "22f55655-3ad3-4adf-948c-818e0c1ea1e7",
   "metadata": {},
   "outputs": [
    {
     "name": "stdout",
     "output_type": "stream",
     "text": [
      "DiscretizedOperator :: [FourierSeries], ['_x9'] \n",
      "\n",
      " Input fields: ('u',)\n",
      "\n",
      "Globals: Shared: {'k_vec': [DeviceArray([ 0.       ,  0.7853982,  1.5707964,  2.3561945,  3.1415927,\n",
      "              3.926991 ,  4.712389 ,  5.4977875, -6.2831855, -5.4977875,\n",
      "             -4.712389 , -3.926991 , -3.1415927, -2.3561945, -1.5707964,\n",
      "             -0.7853982], dtype=float32), DeviceArray([ 0.       ,  0.7853982,  1.5707964,  2.3561945,  3.1415927,\n",
      "              3.926991 ,  4.712389 ,  5.4977875, -6.2831855, -5.4977875,\n",
      "             -4.712389 , -3.926991 , -3.1415927, -2.3561945, -1.5707964,\n",
      "             -0.7853982], dtype=float32)]}\n",
      "Independent: {'MultiplyScalarLinear_rE': {'scalar': 2}}\n",
      "\n",
      "Operations:\n",
      "- _k5: FourierSeries <-- FFTGradient ('u',) | (shared) FFTGradient\n",
      "- _mO: FourierSeries <-- FFTDiagJacobian ('_k5',) | (shared) FFTDiagJacobian\n",
      "- _oj: FourierSeries <-- SumOverDimsOnGrid ('_mO',) | (none) SumOverDimsOnGrid\n",
      "- _q2: FourierSeries <-- ElementwiseOnGrid ('u',) | (none) ElementwiseOnGrid\n",
      "- _vm: FourierSeries <-- MultiplyScalarLinear ('_q2',) | (independent) MultiplyScalarLinear_rE\n",
      "- _x9: FourierSeries <-- AddFieldLinearSame ('_oj', '_vm') | (none) AddFieldLinearSame\n",
      "\n"
     ]
    }
   ],
   "source": [
    "op = custom_op(u=u)\n",
    "print(op)"
   ]
  },
  {
   "cell_type": "code",
   "execution_count": 9,
   "id": "233ffef2-b7d5-48e9-94f9-f65f9450da7a",
   "metadata": {},
   "outputs": [
    {
     "data": {
      "text/plain": [
       "{ lambda  ; a b c d.\n",
       "  let e = lt 0 0\n",
       "      f = add 0 1\n",
       "      g = select e f 0\n",
       "      h = broadcast_in_dim[ broadcast_dimensions=(  )\n",
       "                            shape=(1,) ] g\n",
       "      i = gather[ dimension_numbers=GatherDimensionNumbers(offset_dims=(0, 1), collapsed_slice_dims=(2,), start_index_map=(2,))\n",
       "                  indices_are_sorted=True\n",
       "                  slice_sizes=(16, 16, 1)\n",
       "                  unique_indices=True ] d h\n",
       "      j = broadcast_in_dim[ broadcast_dimensions=(0, 1)\n",
       "                            shape=(16, 16) ] i\n",
       "      k = transpose[ permutation=(1, 0) ] j\n",
       "      l = xla_call[ backend=None\n",
       "                    call_jaxpr={ lambda  ; a.\n",
       "                                 let b = fft[ fft_lengths=(16,)\n",
       "                                              fft_type=FftType.FFT ] a\n",
       "                                 in (b,) }\n",
       "                    device=None\n",
       "                    donated_invars=(False,)\n",
       "                    inline=False\n",
       "                    name=fft ] k\n",
       "      m = mul l 1j\n",
       "      n = convert_element_type[ new_dtype=complex64\n",
       "                                weak_type=False ] b\n",
       "      o = broadcast_in_dim[ broadcast_dimensions=(1,)\n",
       "                            shape=(1, 16) ] n\n",
       "      p = mul m o\n",
       "      q = broadcast_in_dim[ broadcast_dimensions=(  )\n",
       "                            shape=(1,) ] 0\n",
       "      r = broadcast_in_dim[ broadcast_dimensions=(  )\n",
       "                            shape=(1,) ] 0\n",
       "      s = concatenate[ dimension=0 ] q r\n",
       "      t = gather[ dimension_numbers=GatherDimensionNumbers(offset_dims=(0, 1), collapsed_slice_dims=(), start_index_map=(0, 1))\n",
       "                  indices_are_sorted=True\n",
       "                  slice_sizes=(16, 16)\n",
       "                  unique_indices=True ] p s\n",
       "      u = broadcast_in_dim[ broadcast_dimensions=(0, 1)\n",
       "                            shape=(16, 16) ] t\n",
       "      v = xla_call[ backend=None\n",
       "                    call_jaxpr={ lambda  ; a b.\n",
       "                                 let c = broadcast_in_dim[ broadcast_dimensions=(  )\n",
       "                                                           shape=(2, 2) ] b\n",
       "                                     d = convert_element_type[ new_dtype=complex64\n",
       "                                                               weak_type=False ] c\n",
       "                                     e = lt 0 0\n",
       "                                     f = add 0 2\n",
       "                                     g = select e f 0\n",
       "                                     h = lt 0 0\n",
       "                                     i = add 0 2\n",
       "                                     j = select h i 0\n",
       "                                     k = broadcast_in_dim[ broadcast_dimensions=(  )\n",
       "                                                           shape=(1,) ] g\n",
       "                                     l = broadcast_in_dim[ broadcast_dimensions=(  )\n",
       "                                                           shape=(1,) ] j\n",
       "                                     m = concatenate[ dimension=0 ] k l\n",
       "                                     n = gather[ dimension_numbers=GatherDimensionNumbers(offset_dims=(), collapsed_slice_dims=(0, 1), start_index_map=(0, 1))\n",
       "                                                 indices_are_sorted=True\n",
       "                                                 slice_sizes=(1, 1)\n",
       "                                                 unique_indices=True ] d m\n",
       "                                     o = pad[ padding_config=((0, 0, 0), (0, 0, 0)) ] a n\n",
       "                                     p = lt 0 0\n",
       "                                     q = add 0 2\n",
       "                                     r = select p q 0\n",
       "                                     s = lt 1 0\n",
       "                                     t = add 1 2\n",
       "                                     u = select s t 1\n",
       "                                     v = broadcast_in_dim[ broadcast_dimensions=(  )\n",
       "                                                           shape=(1,) ] r\n",
       "                                     w = broadcast_in_dim[ broadcast_dimensions=(  )\n",
       "                                                           shape=(1,) ] u\n",
       "                                     x = concatenate[ dimension=0 ] v w\n",
       "                                     y = gather[ dimension_numbers=GatherDimensionNumbers(offset_dims=(), collapsed_slice_dims=(0, 1), start_index_map=(0, 1))\n",
       "                                                 indices_are_sorted=True\n",
       "                                                 slice_sizes=(1, 1)\n",
       "                                                 unique_indices=True ] d x\n",
       "                                     z = pad[ padding_config=((0, 0, 0), (0, 0, 0)) ] o y\n",
       "                                     ba = lt 1 0\n",
       "                                     bb = add 1 2\n",
       "                                     bc = select ba bb 1\n",
       "                                     bd = lt 0 0\n",
       "                                     be = add 0 2\n",
       "                                     bf = select bd be 0\n",
       "                                     bg = broadcast_in_dim[ broadcast_dimensions=(  )\n",
       "                                                            shape=(1,) ] bc\n",
       "                                     bh = broadcast_in_dim[ broadcast_dimensions=(  )\n",
       "                                                            shape=(1,) ] bf\n",
       "                                     bi = concatenate[ dimension=0 ] bg bh\n",
       "                                     bj = gather[ dimension_numbers=GatherDimensionNumbers(offset_dims=(), collapsed_slice_dims=(0, 1), start_index_map=(0, 1))\n",
       "                                                  indices_are_sorted=True\n",
       "                                                  slice_sizes=(1, 1)\n",
       "                                                  unique_indices=True ] d bi\n",
       "                                     bk = pad[ padding_config=((0, 0, 0), (0, 0, 0)) ] z bj\n",
       "                                     bl = lt 1 0\n",
       "                                     bm = add 1 2\n",
       "                                     bn = select bl bm 1\n",
       "                                     bo = lt 1 0\n",
       "                                     bp = add 1 2\n",
       "                                     bq = select bo bp 1\n",
       "                                     br = broadcast_in_dim[ broadcast_dimensions=(  )\n",
       "                                                            shape=(1,) ] bn\n",
       "                                     bs = broadcast_in_dim[ broadcast_dimensions=(  )\n",
       "                                                            shape=(1,) ] bq\n",
       "                                     bt = concatenate[ dimension=0 ] br bs\n",
       "                                     bu = gather[ dimension_numbers=GatherDimensionNumbers(offset_dims=(), collapsed_slice_dims=(0, 1), start_index_map=(0, 1))\n",
       "                                                  indices_are_sorted=True\n",
       "                                                  slice_sizes=(1, 1)\n",
       "                                                  unique_indices=True ] d bt\n",
       "                                     bv = pad[ padding_config=((0, 0, 0), (0, 0, 0)) ] bk bu\n",
       "                                 in (bv,) }\n",
       "                    device=None\n",
       "                    donated_invars=(False, False)\n",
       "                    inline=False\n",
       "                    name=_pad ] u 0\n",
       "      w = xla_call[ backend=None\n",
       "                    call_jaxpr={ lambda  ; a.\n",
       "                                 let b = fft[ fft_lengths=(16,)\n",
       "                                              fft_type=FftType.IFFT ] a\n",
       "                                 in (b,) }\n",
       "                    device=None\n",
       "                    donated_invars=(False,)\n",
       "                    inline=False\n",
       "                    name=fft ] v\n",
       "      x = transpose[ permutation=(1, 0) ] w\n",
       "      y = xla_call[ backend=None\n",
       "                    call_jaxpr={ lambda  ; a.\n",
       "                                 let b = fft[ fft_lengths=(16,)\n",
       "                                              fft_type=FftType.FFT ] a\n",
       "                                 in (b,) }\n",
       "                    device=None\n",
       "                    donated_invars=(False,)\n",
       "                    inline=False\n",
       "                    name=fft ] j\n",
       "      z = mul y 1j\n",
       "      ba = convert_element_type[ new_dtype=complex64\n",
       "                                 weak_type=False ] c\n",
       "      bb = broadcast_in_dim[ broadcast_dimensions=(1,)\n",
       "                             shape=(1, 16) ] ba\n",
       "      bc = mul z bb\n",
       "      bd = broadcast_in_dim[ broadcast_dimensions=(  )\n",
       "                             shape=(1,) ] 0\n",
       "      be = broadcast_in_dim[ broadcast_dimensions=(  )\n",
       "                             shape=(1,) ] 0\n",
       "      bf = concatenate[ dimension=0 ] bd be\n",
       "      bg = gather[ dimension_numbers=GatherDimensionNumbers(offset_dims=(0, 1), collapsed_slice_dims=(), start_index_map=(0, 1))\n",
       "                   indices_are_sorted=True\n",
       "                   slice_sizes=(16, 16)\n",
       "                   unique_indices=True ] bc bf\n",
       "      bh = broadcast_in_dim[ broadcast_dimensions=(0, 1)\n",
       "                             shape=(16, 16) ] bg\n",
       "      bi = xla_call[ backend=None\n",
       "                     call_jaxpr={ lambda  ; a b.\n",
       "                                  let c = broadcast_in_dim[ broadcast_dimensions=(  )\n",
       "                                                            shape=(2, 2) ] b\n",
       "                                      d = convert_element_type[ new_dtype=complex64\n",
       "                                                                weak_type=False ] c\n",
       "                                      e = lt 0 0\n",
       "                                      f = add 0 2\n",
       "                                      g = select e f 0\n",
       "                                      h = lt 0 0\n",
       "                                      i = add 0 2\n",
       "                                      j = select h i 0\n",
       "                                      k = broadcast_in_dim[ broadcast_dimensions=(  )\n",
       "                                                            shape=(1,) ] g\n",
       "                                      l = broadcast_in_dim[ broadcast_dimensions=(  )\n",
       "                                                            shape=(1,) ] j\n",
       "                                      m = concatenate[ dimension=0 ] k l\n",
       "                                      n = gather[ dimension_numbers=GatherDimensionNumbers(offset_dims=(), collapsed_slice_dims=(0, 1), start_index_map=(0, 1))\n",
       "                                                  indices_are_sorted=True\n",
       "                                                  slice_sizes=(1, 1)\n",
       "                                                  unique_indices=True ] d m\n",
       "                                      o = pad[ padding_config=((0, 0, 0), (0, 0, 0)) ] a n\n",
       "                                      p = lt 0 0\n",
       "                                      q = add 0 2\n",
       "                                      r = select p q 0\n",
       "                                      s = lt 1 0\n",
       "                                      t = add 1 2\n",
       "                                      u = select s t 1\n",
       "                                      v = broadcast_in_dim[ broadcast_dimensions=(  )\n",
       "                                                            shape=(1,) ] r\n",
       "                                      w = broadcast_in_dim[ broadcast_dimensions=(  )\n",
       "                                                            shape=(1,) ] u\n",
       "                                      x = concatenate[ dimension=0 ] v w\n",
       "                                      y = gather[ dimension_numbers=GatherDimensionNumbers(offset_dims=(), collapsed_slice_dims=(0, 1), start_index_map=(0, 1))\n",
       "                                                  indices_are_sorted=True\n",
       "                                                  slice_sizes=(1, 1)\n",
       "                                                  unique_indices=True ] d x\n",
       "                                      z = pad[ padding_config=((0, 0, 0), (0, 0, 0)) ] o y\n",
       "                                      ba = lt 1 0\n",
       "                                      bb = add 1 2\n",
       "                                      bc = select ba bb 1\n",
       "                                      bd = lt 0 0\n",
       "                                      be = add 0 2\n",
       "                                      bf = select bd be 0\n",
       "                                      bg = broadcast_in_dim[ broadcast_dimensions=(  )\n",
       "                                                             shape=(1,) ] bc\n",
       "                                      bh = broadcast_in_dim[ broadcast_dimensions=(  )\n",
       "                                                             shape=(1,) ] bf\n",
       "                                      bi = concatenate[ dimension=0 ] bg bh\n",
       "                                      bj = gather[ dimension_numbers=GatherDimensionNumbers(offset_dims=(), collapsed_slice_dims=(0, 1), start_index_map=(0, 1))\n",
       "                                                   indices_are_sorted=True\n",
       "                                                   slice_sizes=(1, 1)\n",
       "                                                   unique_indices=True ] d bi\n",
       "                                      bk = pad[ padding_config=((0, 0, 0), (0, 0, 0)) ] z bj\n",
       "                                      bl = lt 1 0\n",
       "                                      bm = add 1 2\n",
       "                                      bn = select bl bm 1\n",
       "                                      bo = lt 1 0\n",
       "                                      bp = add 1 2\n",
       "                                      bq = select bo bp 1\n",
       "                                      br = broadcast_in_dim[ broadcast_dimensions=(  )\n",
       "                                                             shape=(1,) ] bn\n",
       "                                      bs = broadcast_in_dim[ broadcast_dimensions=(  )\n",
       "                                                             shape=(1,) ] bq\n",
       "                                      bt = concatenate[ dimension=0 ] br bs\n",
       "                                      bu = gather[ dimension_numbers=GatherDimensionNumbers(offset_dims=(), collapsed_slice_dims=(0, 1), start_index_map=(0, 1))\n",
       "                                                   indices_are_sorted=True\n",
       "                                                   slice_sizes=(1, 1)\n",
       "                                                   unique_indices=True ] d bt\n",
       "                                      bv = pad[ padding_config=((0, 0, 0), (0, 0, 0)) ] bk bu\n",
       "                                  in (bv,) }\n",
       "                     device=None\n",
       "                     donated_invars=(False, False)\n",
       "                     inline=False\n",
       "                     name=_pad ] bh 0\n",
       "      bj = xla_call[ backend=None\n",
       "                     call_jaxpr={ lambda  ; a.\n",
       "                                  let b = fft[ fft_lengths=(16,)\n",
       "                                               fft_type=FftType.IFFT ] a\n",
       "                                  in (b,) }\n",
       "                     device=None\n",
       "                     donated_invars=(False,)\n",
       "                     inline=False\n",
       "                     name=fft ] bi\n",
       "      bk = broadcast_in_dim[ broadcast_dimensions=(0, 1)\n",
       "                             shape=(16, 16, 1) ] x\n",
       "      bl = broadcast_in_dim[ broadcast_dimensions=(0, 1)\n",
       "                             shape=(16, 16, 1) ] bj\n",
       "      bm = concatenate[ dimension=2 ] bk bl\n",
       "      bn = sin d\n",
       "      bo = convert_element_type[ new_dtype=complex64\n",
       "                                 weak_type=False ] a\n",
       "      bp = mul bn bo\n",
       "      bq = add bm bp\n",
       "  in (bq,) }"
      ]
     },
     "execution_count": 9,
     "metadata": {},
     "output_type": "execute_result"
    }
   ],
   "source": [
    "from jax import make_jaxpr, jit\n",
    "from jax import numpy as jnp\n",
    "\n",
    "f = op.get_field_on_grid(0)\n",
    "global_params = op.get_global_params()\n",
    "\n",
    "make_jaxpr(f)(global_params, {\"u\": u_params})"
   ]
  },
  {
   "cell_type": "code",
   "execution_count": null,
   "id": "02e0a9d7-4b42-4bf7-8d73-19990074cdcb",
   "metadata": {},
   "outputs": [],
   "source": []
  },
  {
   "cell_type": "code",
   "execution_count": 5,
   "id": "e70ec81c-742e-4e21-9493-6b3df2f9849e",
   "metadata": {},
   "outputs": [
    {
     "ename": "NameError",
     "evalue": "name 'Primitive' is not defined",
     "output_type": "error",
     "traceback": [
      "\u001b[0;31m---------------------------------------------------------------------------\u001b[0m",
      "\u001b[0;31mNameError\u001b[0m                                 Traceback (most recent call last)",
      "\u001b[0;32m/tmp/ipykernel_483370/1355266920.py\u001b[0m in \u001b[0;36m<module>\u001b[0;34m\u001b[0m\n\u001b[0;32m----> 1\u001b[0;31m \u001b[0;32mclass\u001b[0m \u001b[0mAddScalar\u001b[0m\u001b[0;34m(\u001b[0m\u001b[0mPrimitive\u001b[0m\u001b[0;34m)\u001b[0m\u001b[0;34m:\u001b[0m\u001b[0;34m\u001b[0m\u001b[0;34m\u001b[0m\u001b[0m\n\u001b[0m\u001b[1;32m      2\u001b[0m     \u001b[0;32mdef\u001b[0m \u001b[0m__init__\u001b[0m\u001b[0;34m(\u001b[0m\u001b[0mself\u001b[0m\u001b[0;34m,\u001b[0m \u001b[0mscalar\u001b[0m\u001b[0;34m,\u001b[0m \u001b[0mname\u001b[0m\u001b[0;34m=\u001b[0m\u001b[0;34m\"AddScalar\"\u001b[0m\u001b[0;34m,\u001b[0m \u001b[0mindependent_params\u001b[0m\u001b[0;34m=\u001b[0m\u001b[0;32mTrue\u001b[0m\u001b[0;34m)\u001b[0m\u001b[0;34m:\u001b[0m\u001b[0;34m\u001b[0m\u001b[0;34m\u001b[0m\u001b[0m\n\u001b[1;32m      3\u001b[0m         \u001b[0msuper\u001b[0m\u001b[0;34m(\u001b[0m\u001b[0;34m)\u001b[0m\u001b[0;34m.\u001b[0m\u001b[0m__init__\u001b[0m\u001b[0;34m(\u001b[0m\u001b[0mname\u001b[0m\u001b[0;34m,\u001b[0m \u001b[0mindependent_params\u001b[0m\u001b[0;34m)\u001b[0m\u001b[0;34m\u001b[0m\u001b[0;34m\u001b[0m\u001b[0m\n\u001b[1;32m      4\u001b[0m         \u001b[0mself\u001b[0m\u001b[0;34m.\u001b[0m\u001b[0mscalar\u001b[0m \u001b[0;34m=\u001b[0m \u001b[0mscalar\u001b[0m\u001b[0;34m\u001b[0m\u001b[0;34m\u001b[0m\u001b[0m\n\u001b[1;32m      5\u001b[0m \u001b[0;34m\u001b[0m\u001b[0m\n",
      "\u001b[0;31mNameError\u001b[0m: name 'Primitive' is not defined"
     ]
    }
   ],
   "source": [
    "class AddScalar(Primitive):\n",
    "    def __init__(self, scalar, name=\"AddScalar\", independent_params=True):\n",
    "        super().__init__(name, independent_params)\n",
    "        self.scalar = scalar\n",
    "    \n",
    "    def discrete_transform(self):\n",
    "        def f(op_params, field_params):\n",
    "            return [field_params, op_params[\"scalar\"]]\n",
    "        f.__name__ = self.name\n",
    "        return f\n",
    "\n",
    "    def setup(self, field):\n",
    "        '''New arbitrary discretization'''\n",
    "        parameters = {\"scalar\": self.scalar}\n",
    "\n",
    "        def get_field(p_joined, x):\n",
    "            p, scalar = p_joined\n",
    "            return field.discretization.get_field()(p,x) + scalar\n",
    "\n",
    "        new_discretization = discretization.Arbitrary(\n",
    "            field.discretization.domain,\n",
    "            get_field,\n",
    "            no_init\n",
    "        )\n",
    "\n",
    "        return parameters, new_discretization\n"
   ]
  },
  {
   "cell_type": "code",
   "execution_count": null,
   "id": "80e8e268-8516-4bc2-a2e2-165ebf5aaacf",
   "metadata": {},
   "outputs": [],
   "source": [
    "class AddScalarLinear(Primitive):\n",
    "    def __init__(self, scalar, name=\"AddScalarLinear\", independent_params=True):\n",
    "        super().__init__(name, independent_params)\n",
    "        self.scalar = scalar\n",
    "\n",
    "    def discrete_transform(self):\n",
    "        def f(op_params, field_params):\n",
    "            return field_params + op_params[\"scalar\"]\n",
    "        f.__name__ = self.name\n",
    "        return f\n",
    "    \n",
    "    def setup(self, field):\n",
    "        '''Same discretization family as the input'''\n",
    "        new_discretization = field.discretization\n",
    "        parameters = {\"scalar\": self.scalar}\n",
    "        return parameters, new_discretization"
   ]
  },
  {
   "cell_type": "code",
   "execution_count": 6,
   "id": "0be68a38-4050-4a6f-b52e-3d6d406a6e63",
   "metadata": {},
   "outputs": [],
   "source": [
    "from jaxdf.core import operator\n",
    "\n",
    "@operator(u)\n",
    "def custom_op(x):\n",
    "    return u(x) + 2"
   ]
  },
  {
   "cell_type": "code",
   "execution_count": 7,
   "id": "b1a93b37-4402-4dec-b5cc-12ab27c79717",
   "metadata": {},
   "outputs": [],
   "source": [
    "from jaxdf.core import operator\n",
    "\n",
    "@operator()\n",
    "def custom_op(u):\n",
    "    a = u + 2\n",
    "    return a"
   ]
  },
  {
   "cell_type": "code",
   "execution_count": 8,
   "id": "0a2c465a-013d-4570-a784-8679214d2fe7",
   "metadata": {},
   "outputs": [
    {
     "data": {
      "text/plain": [
       "<function jaxdf.core.operator.<locals>.decorator.<locals>.wrapper(*args, **kwargs)>"
      ]
     },
     "execution_count": 8,
     "metadata": {},
     "output_type": "execute_result"
    }
   ],
   "source": [
    "custom_op"
   ]
  },
  {
   "cell_type": "code",
   "execution_count": 9,
   "id": "71ab6732-a285-4053-96eb-df9ab53f4304",
   "metadata": {},
   "outputs": [
    {
     "name": "stdout",
     "output_type": "stream",
     "text": [
      "DiscretizedOperator :: [RealFourierSeries], ['_k5'] \n",
      "\n",
      " Input fields: ('u',)\n",
      "\n",
      "Globals: Shared: {}\n",
      "Independent: {'AddScalarLinear_jR': {'scalar': 2}}\n",
      "\n",
      "Operations:\n",
      "- _k5: RealFourierSeries <-- AddScalarLinear ('u',) | (independent) AddScalarLinear_jR\n",
      "\n"
     ]
    }
   ],
   "source": [
    "op = custom_op(u=u)\n",
    "print(op)"
   ]
  },
  {
   "cell_type": "code",
   "execution_count": 10,
   "id": "21676116-41c7-4048-a5e7-dc271ec91cbb",
   "metadata": {},
   "outputs": [
    {
     "data": {
      "text/plain": [
       "DeviceArray([2240.], dtype=float32)"
      ]
     },
     "execution_count": 10,
     "metadata": {},
     "output_type": "execute_result"
    }
   ],
   "source": [
    "global_params = op.get_global_params()\n",
    "\n",
    "f = op.get_field(0)\n",
    "f(global_params, {'u': u_params}, x=1.)"
   ]
  },
  {
   "cell_type": "code",
   "execution_count": 7,
   "id": "3ddfe8d0-3283-45b2-b007-d748c2f39df4",
   "metadata": {},
   "outputs": [],
   "source": [
    "from jaxdf.core import operator\n",
    "from jaxdf.primitives import AddScalarLinear\n",
    "\n",
    "add_three = AddScalarLinear(scalar=3.)\n",
    "add_five = AddScalarLinear(scalar=5., independent_params = False)\n",
    "\n",
    "@operator(debug=False)\n",
    "def custom_op(u):\n",
    "    a = u + 2\n",
    "    b = add_three(a)\n",
    "    c = add_five(b)\n",
    "    return c"
   ]
  },
  {
   "cell_type": "code",
   "execution_count": 8,
   "id": "af62c685-393d-44d0-b4bd-abe8c643f6d9",
   "metadata": {},
   "outputs": [
    {
     "name": "stdout",
     "output_type": "stream",
     "text": [
      "DiscretizedOperator :: [RealFourierSeries], ['_oj'] \n",
      "\n",
      " Input fields: ('u',)\n",
      "\n",
      "Globals: Globals: \n",
      "{'shared': {'AddScalarLinear': {'scalar': 5.0}}, 'independent': {'AddScalarLinear_jR': {'scalar': 2}, 'AddScalarLinear_l5': {'scalar': 3.0}}}\n",
      "\n",
      "Operations:\n",
      "- _k5: RealFourierSeries <-- AddScalarLinear ('u',) | (independent) AddScalarLinear_jR\n",
      "- _mO: RealFourierSeries <-- AddScalarLinear ('_k5',) | (independent) AddScalarLinear_l5\n",
      "- _oj: RealFourierSeries <-- AddScalarLinear ('_mO',) | (shared) AddScalarLinear\n",
      "\n"
     ]
    }
   ],
   "source": [
    "from jaxdf.core import Field\n",
    "\n",
    "# Fourier discretization\n",
    "seeds = random.split(seed, 2)\n",
    "u_params = fourier_discretization.random_field(seeds[0])\n",
    "u = Field(fourier_discretization, params=u_params, name='u')\n",
    "\n",
    "# Compiling operator on the given discretization\n",
    "op = custom_op(u=u)\n",
    "print(op)"
   ]
  },
  {
   "cell_type": "code",
   "execution_count": 9,
   "id": "91d55bd9-a59b-403d-9e63-053091044f27",
   "metadata": {},
   "outputs": [
    {
     "data": {
      "text/plain": [
       "DeviceArray([8.997641], dtype=float32)"
      ]
     },
     "execution_count": 9,
     "metadata": {},
     "output_type": "execute_result"
    }
   ],
   "source": [
    "global_params = op.get_global_params()\n",
    "\n",
    "f = op.get_field(0)\n",
    "f(global_params, {'u': u_params}, 1.)"
   ]
  },
  {
   "cell_type": "code",
   "execution_count": 13,
   "id": "8a509234-1872-4569-a2d2-1e5b302ca9a3",
   "metadata": {},
   "outputs": [],
   "source": [
    "import pprint\n",
    "\n",
    "pp = pprint.PrettyPrinter(indent=4)"
   ]
  },
  {
   "cell_type": "code",
   "execution_count": 14,
   "id": "52fc0e39-7911-4a02-a22c-8461cded5c86",
   "metadata": {},
   "outputs": [
    {
     "name": "stdout",
     "output_type": "stream",
     "text": [
      "{   'independent': {   'AddScalarLinear_jR': {'scalar': 2},\n",
      "                       'AddScalarLinear_l5': {'scalar': 3.0}},\n",
      "    'shared': {'AddScalarLinear': {'scalar': 5.0}}}\n"
     ]
    }
   ],
   "source": [
    "pp.pprint(global_params)"
   ]
  },
  {
   "cell_type": "code",
   "execution_count": 15,
   "id": "8af26678-635a-4270-a8e0-5c415a94fecf",
   "metadata": {},
   "outputs": [],
   "source": [
    "from jaxdf.primitives import Primitive"
   ]
  },
  {
   "cell_type": "code",
   "execution_count": 9,
   "id": "670a2f07-1f7f-4b47-b427-d09c143e9b02",
   "metadata": {},
   "outputs": [],
   "source": [
    "class MultiplyScalarLinear(Primitive):\n",
    "    def __init__(self, scalar, name=\"MultiplyScalarLinear\", independent_params=True):\n",
    "        super().__init__(name, independent_params)\n",
    "        self.scalar = scalar\n",
    "\n",
    "    def discrete_transform(self):\n",
    "        def f(op_params, field_params):\n",
    "            return field_params  op_params[\"scalar\"]\n",
    "        f.__name__ = self.name\n",
    "        return f\n",
    "    \n",
    "    def setup(self, field):\n",
    "        '''Same discretization family as the input'''\n",
    "        new_discretization = field.discretization\n",
    "        parameters = {\"scalar\": self.scalar}\n",
    "        return parameters, new_discretization"
   ]
  },
  {
   "cell_type": "code",
   "execution_count": 33,
   "id": "7c8994cf-3bbe-4715-b9ac-00d9bda68131",
   "metadata": {},
   "outputs": [],
   "source": [
    "class PowerScalarLinear(Primitive):\n",
    "    def __init__(self, exponent, name=\"abc\", independent_params=True):\n",
    "        super().__init__(name, independent_params)\n",
    "        self.exponent = exponent\n",
    "        \n",
    "    def setup(self, field):\n",
    "        '''Same discretization family as the input'''\n",
    "        new_discretization = field.discretization\n",
    "        parameters = {\"exponent\": self.exponent}\n",
    "        return parameters, new_discretization\n",
    "    \n",
    "    def discrete_transform(self):\n",
    "        def f(op_params, field_params):\n",
    "            return field_params*op_params[\"exponent\"]\n",
    "        f.__name__ = self.name\n",
    "        return f"
   ]
  },
  {
   "cell_type": "code",
   "execution_count": 34,
   "id": "0bc31a78-6f20-468d-bb3a-07c5cf7c6e02",
   "metadata": {},
   "outputs": [],
   "source": [
    "power_4 = PowerScalarLinear(4)\n",
    "    \n",
    "@operator(debug=False)\n",
    "def custom_op(u):\n",
    "    b = power_4(u)\n",
    "    c = b + 10\n",
    "    return c"
   ]
  },
  {
   "cell_type": "code",
   "execution_count": 35,
   "id": "112a11fb-a825-47e8-b96f-5f14a85c201b",
   "metadata": {},
   "outputs": [
    {
     "name": "stdout",
     "output_type": "stream",
     "text": [
      "DiscretizedOperator :: [RealFourierSeries], ['_mO'] \n",
      "\n",
      " Input fields: ('u',)\n",
      "\n",
      "Globals: {'shared': {}, 'independent': {'abc_jR': {'exponent': 4}, 'AddScalarLinear_l5': {'scalar': 10}}}\n",
      "\n",
      "Operations:\n",
      "- _k5: RealFourierSeries <-- abc ('u',) | (independent) abc_jR\n",
      "- _mO: RealFourierSeries <-- AddScalarLinear ('_k5',) | (independent) AddScalarLinear_l5\n",
      "\n"
     ]
    }
   ],
   "source": [
    "op = custom_op(u=u)\n",
    "print(op)"
   ]
  },
  {
   "cell_type": "code",
   "execution_count": 36,
   "id": "9c12fa1d-684e-4a53-b40c-6e1b842d93cc",
   "metadata": {},
   "outputs": [
    {
     "data": {
      "text/plain": [
       "DeviceArray(5.990572, dtype=float32)"
      ]
     },
     "execution_count": 36,
     "metadata": {},
     "output_type": "execute_result"
    }
   ],
   "source": [
    "global_params = op.tracer.globals.dict\n",
    "f = op.get_field(0)\n",
    "f(global_params, {'u': u_params}, 1.)g"
   ]
  },
  {
   "cell_type": "code",
   "execution_count": 37,
   "id": "c8bc5426-a75b-4eb6-9e04-db0f9d2bcfb7",
   "metadata": {},
   "outputs": [],
   "source": [
    "def g(exponent):\n",
    "    new_global = global_params.copy()\n",
    "    new_global['independent']['abc_jR']['exponent'] = exponent\n",
    "    return f(new_global, {'u': u_params}, 1.)"
   ]
  },
  {
   "cell_type": "code",
   "execution_count": 38,
   "id": "9bdea2e3-a31d-4a3a-9fb5-2a765df8c003",
   "metadata": {},
   "outputs": [
    {
     "data": {
      "text/plain": [
       "DeviceArray(6.992928, dtype=float32)"
      ]
     },
     "execution_count": 38,
     "metadata": {},
     "output_type": "execute_result"
    }
   ],
   "source": [
    "g(3.)"
   ]
  },
  {
   "cell_type": "code",
   "execution_count": null,
   "id": "8ae4631e-0bc0-4b29-aa24-7773501a4a3e",
   "metadata": {},
   "outputs": [],
   "source": []
  },
  {
   "cell_type": "code",
   "execution_count": 39,
   "id": "c38d051c-ea85-44ec-aeb2-588d75fc9191",
   "metadata": {},
   "outputs": [],
   "source": [
    "from jax import grad\n",
    "\n",
    "dg = grad(g)"
   ]
  },
  {
   "cell_type": "code",
   "execution_count": 40,
   "id": "08804a99-fd42-4332-bdc5-198492d38883",
   "metadata": {},
   "outputs": [
    {
     "data": {
      "text/plain": [
       "DeviceArray(-1.0023577, dtype=float32)"
      ]
     },
     "execution_count": 40,
     "metadata": {},
     "output_type": "execute_result"
    }
   ],
   "source": [
    "dg(3.)"
   ]
  },
  {
   "cell_type": "code",
   "execution_count": 30,
   "id": "536c6ae1-21fd-4fea-b804-1d84a173ca26",
   "metadata": {},
   "outputs": [
    {
     "data": {
      "text/plain": [
       "{ lambda a b c d e ; f g h i.\n",
       "  let j = convert_element_type[ new_dtype=float32\n",
       "                                weak_type=False ] g\n",
       "      k = pow h j\n",
       "      l = convert_element_type[ new_dtype=float32\n",
       "                                weak_type=False ] f\n",
       "      m = add k l\n",
       "      n = broadcast_in_dim[ broadcast_dimensions=(  )\n",
       "                            shape=(32,) ] 0.0\n",
       "      o = convert_element_type[ new_dtype=float32\n",
       "                                weak_type=False ] a\n",
       "      p = broadcast_in_dim[ broadcast_dimensions=(  )\n",
       "                            shape=(1,) ] 0\n",
       "      q = scatter[ dimension_numbers=ScatterDimensionNumbers(update_window_dims=(0,), inserted_window_dims=(), scatter_dims_to_operand_dims=(0,))\n",
       "                   indices_are_sorted=False\n",
       "                   unique_indices=True\n",
       "                   update_consts=(  )\n",
       "                   update_jaxpr={ lambda  ; a b.\n",
       "                                  let \n",
       "                                  in (b,) } ] n p o\n",
       "      r = convert_element_type[ new_dtype=float32\n",
       "                                weak_type=False ] b\n",
       "      s = broadcast_in_dim[ broadcast_dimensions=(  )\n",
       "                            shape=(1,) ] 16\n",
       "      t = scatter[ dimension_numbers=ScatterDimensionNumbers(update_window_dims=(0,), inserted_window_dims=(), scatter_dims_to_operand_dims=(0,))\n",
       "                   indices_are_sorted=False\n",
       "                   unique_indices=True\n",
       "                   update_consts=(  )\n",
       "                   update_jaxpr={ lambda  ; a b.\n",
       "                                  let \n",
       "                                  in (b,) } ] q s r\n",
       "      u = div t 16.0\n",
       "      v = mul u 2.0\n",
       "      w = mul v 3.1415927410125732\n",
       "      x = broadcast_in_dim[ broadcast_dimensions=(  )\n",
       "                            shape=(35,) ] 0.0\n",
       "      y = convert_element_type[ new_dtype=float32\n",
       "                                weak_type=False ] c\n",
       "      z = broadcast_in_dim[ broadcast_dimensions=(  )\n",
       "                            shape=(1,) ] 0\n",
       "      ba = scatter[ dimension_numbers=ScatterDimensionNumbers(update_window_dims=(0,), inserted_window_dims=(), scatter_dims_to_operand_dims=(0,))\n",
       "                    indices_are_sorted=False\n",
       "                    unique_indices=True\n",
       "                    update_consts=(  )\n",
       "                    update_jaxpr={ lambda  ; a b.\n",
       "                                   let \n",
       "                                   in (b,) } ] x z y\n",
       "      bb = convert_element_type[ new_dtype=float32\n",
       "                                 weak_type=False ] d\n",
       "      bc = broadcast_in_dim[ broadcast_dimensions=(  )\n",
       "                             shape=(1,) ] 18\n",
       "      bd = scatter[ dimension_numbers=ScatterDimensionNumbers(update_window_dims=(0,), inserted_window_dims=(), scatter_dims_to_operand_dims=(0,))\n",
       "                    indices_are_sorted=False\n",
       "                    unique_indices=True\n",
       "                    update_consts=(  )\n",
       "                    update_jaxpr={ lambda  ; a b.\n",
       "                                   let \n",
       "                                   in (b,) } ] ba bc bb\n",
       "      be = div bd 21.0\n",
       "      bf = mul be 2.0\n",
       "      _ = mul bf 3.1415927410125732\n",
       "      bg = convert_element_type[ new_dtype=float32\n",
       "                                 weak_type=True ] e\n",
       "      bh = div bg 21.0\n",
       "      bi = mul bh 2.0\n",
       "      bj = mul bi 3.1415927410125732\n",
       "      bk = broadcast_in_dim[ broadcast_dimensions=(0,)\n",
       "                             shape=(32, 18) ] w\n",
       "      bl = broadcast_in_dim[ broadcast_dimensions=(1,)\n",
       "                             shape=(32, 18) ] bj\n",
       "      bm = broadcast_in_dim[ broadcast_dimensions=(0, 1)\n",
       "                             shape=(32, 18, 1) ] bk\n",
       "      bn = broadcast_in_dim[ broadcast_dimensions=(0, 1)\n",
       "                             shape=(32, 18, 1) ] bl\n",
       "      bo = convert_element_type[ new_dtype=float32\n",
       "                                 weak_type=False ] bn\n",
       "      bp = concatenate[ dimension=2 ] bm bo\n",
       "      bq = fft[ fft_lengths=(32, 35)\n",
       "                fft_type=FftType.RFFT ] m\n",
       "      br = convert_element_type[ new_dtype=float32\n",
       "                                 weak_type=False ] i\n",
       "      bs = mul bp br\n",
       "      bt = reduce_sum[ axes=(2,) ] bs\n",
       "      bu = convert_element_type[ new_dtype=complex64\n",
       "                                 weak_type=False ] bt\n",
       "      bv = mul bu 1j\n",
       "      bw = exp bv\n",
       "      bx = mul bq bw\n",
       "      by = reduce_sum[ axes=(0, 1) ] bx\n",
       "      _ = broadcast_in_dim[ broadcast_dimensions=(  )\n",
       "                            shape=(1,) ] 0\n",
       "      bz = broadcast_in_dim[ broadcast_dimensions=(  )\n",
       "                             shape=(32, 0, 2) ] 0.0\n",
       "      _ = broadcast_in_dim[ broadcast_dimensions=(  )\n",
       "                            shape=(1,) ] 0\n",
       "      ca = broadcast_in_dim[ broadcast_dimensions=(  )\n",
       "                             shape=(32, 0) ] 0j\n",
       "      cb = conj[ input_dtype=complex64 ] ca\n",
       "      cc = convert_element_type[ new_dtype=float32\n",
       "                                 weak_type=False ] i\n",
       "      cd = mul bz cc\n",
       "      ce = reduce_sum[ axes=(2,) ] cd\n",
       "      cf = convert_element_type[ new_dtype=complex64\n",
       "                                 weak_type=False ] ce\n",
       "      cg = mul cf (-0-1j)\n",
       "      ch = exp cg\n",
       "      ci = mul cb ch\n",
       "      cj = reduce_sum[ axes=(0, 1) ] ci\n",
       "      ck = add by cj\n",
       "      cl = real ck\n",
       "      cm = div cl 1120.0\n",
       "  in (cm,) }"
      ]
     },
     "execution_count": 30,
     "metadata": {},
     "output_type": "execute_result"
    }
   ],
   "source": [
    "jax.make_jaxpr(f)(global_params, {'u': u_params}, 1.)"
   ]
  },
  {
   "cell_type": "code",
   "execution_count": 1,
   "id": "62fbf0c7-d9da-4fd3-8b2b-1e0c6ded7f23",
   "metadata": {},
   "outputs": [
    {
     "ename": "NameError",
     "evalue": "name 'jax' is not defined",
     "output_type": "error",
     "traceback": [
      "\u001b[0;31m---------------------------------------------------------------------------\u001b[0m",
      "\u001b[0;31mNameError\u001b[0m                                 Traceback (most recent call last)",
      "\u001b[0;32m<ipython-input-1-912f4ca497e7>\u001b[0m in \u001b[0;36m<module>\u001b[0;34m\u001b[0m\n\u001b[0;32m----> 1\u001b[0;31m \u001b[0mjax\u001b[0m\u001b[0;34m.\u001b[0m\u001b[0mmake_jaxpr\u001b[0m\u001b[0;34m(\u001b[0m\u001b[0mf\u001b[0m\u001b[0;34m)\u001b[0m\u001b[0;34m(\u001b[0m\u001b[0mglobal_params\u001b[0m\u001b[0;34m,\u001b[0m \u001b[0;34m{\u001b[0m\u001b[0;34m'u'\u001b[0m\u001b[0;34m:\u001b[0m \u001b[0mu_params\u001b[0m\u001b[0;34m}\u001b[0m\u001b[0;34m,\u001b[0m \u001b[0;36m1.\u001b[0m\u001b[0;34m)\u001b[0m\u001b[0;34m\u001b[0m\u001b[0;34m\u001b[0m\u001b[0m\n\u001b[0m",
      "\u001b[0;31mNameError\u001b[0m: name 'jax' is not defined"
     ]
    }
   ],
   "source": [
    "jax.make_jaxpr(f)(global_params, {'u': u_params}, 1.)"
   ]
  },
  {
   "cell_type": "markdown",
   "id": "21a1e5f3-7e11-4db5-b0dc-2ff82b579c22",
   "metadata": {},
   "source": [
    "# jax.make_jaxpr(f)(global_params, {'u': u_params}, 1.)"
   ]
  },
  {
   "cell_type": "code",
   "execution_count": 23,
   "id": "9ae6093a-d2c6-4632-9e92-f949be9d7f08",
   "metadata": {},
   "outputs": [
    {
     "name": "stdout",
     "output_type": "stream",
     "text": [
      "{   'independent': {   'AddScalarLinear_l5': {'scalar': 10},\n",
      "                       'abc_jR': {'exponent': 4}},\n",
      "    'shared': {}}\n"
     ]
    }
   ],
   "source": [
    "pp.pprint(global_params)"
   ]
  },
  {
   "cell_type": "code",
   "execution_count": null,
   "id": "01283f0d-301b-4071-9dde-6b5d1557c3df",
   "metadata": {},
   "outputs": [],
   "source": []
  }
 ],
 "metadata": {
  "kernelspec": {
   "display_name": "Python 3 (ipykernel)",
   "language": "python",
   "name": "python3"
  },
  "language_info": {
   "codemirror_mode": {
    "name": "ipython",
    "version": 3
   },
   "file_extension": ".py",
   "mimetype": "text/x-python",
   "name": "python",
   "nbconvert_exporter": "python",
   "pygments_lexer": "ipython3",
   "version": "3.9.7"
  }
 },
 "nbformat": 4,
 "nbformat_minor": 5
}
